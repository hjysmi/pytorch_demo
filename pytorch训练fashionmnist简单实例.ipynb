{
 "cells": [
  {
   "cell_type": "markdown",
   "source": [
    "# 导入包"
   ],
   "metadata": {
    "collapsed": false,
    "pycharm": {
     "name": "#%% md\n"
    }
   }
  },
  {
   "cell_type": "code",
   "execution_count": 1,
   "outputs": [
    {
     "data": {
      "text/plain": "'1.12.1'"
     },
     "execution_count": 1,
     "metadata": {},
     "output_type": "execute_result"
    }
   ],
   "source": [
    "import torch as t\n",
    "import torchvision\n",
    "import torchvision.transforms as transforms\n",
    "import torch.nn as nn\n",
    "from torch.nn import functional as F\n",
    "import torch.optim as optim\n",
    "from torch.utils.data import DataLoader, TensorDataset\n",
    "t.__version__"
   ],
   "metadata": {
    "collapsed": false,
    "pycharm": {
     "name": "#%%\n"
    }
   }
  },
  {
   "cell_type": "code",
   "execution_count": 2,
   "outputs": [
    {
     "data": {
      "text/plain": "Dataset FashionMNIST\n    Number of datapoints: 60000\n    Root location: F:\\temp\\mnist\n    Split: Train\n    StandardTransform\nTransform: ToTensor()"
     },
     "execution_count": 2,
     "metadata": {},
     "output_type": "execute_result"
    }
   ],
   "source": [
    "mnist = torchvision.datasets.FashionMNIST(root=r\"F:\\temp\\mnist\",\n",
    "                                  train=True,\n",
    "                                  download=True,\n",
    "                                  transform=transforms.ToTensor())\n",
    "mnist"
   ],
   "metadata": {
    "collapsed": false,
    "pycharm": {
     "name": "#%%\n"
    }
   }
  },
  {
   "cell_type": "code",
   "execution_count": 3,
   "outputs": [
    {
     "data": {
      "text/plain": "['T-shirt/top',\n 'Trouser',\n 'Pullover',\n 'Dress',\n 'Coat',\n 'Sandal',\n 'Shirt',\n 'Sneaker',\n 'Bag',\n 'Ankle boot']"
     },
     "execution_count": 3,
     "metadata": {},
     "output_type": "execute_result"
    }
   ],
   "source": [
    "# 查看下mnist的类别\n",
    "mnist.classes"
   ],
   "metadata": {
    "collapsed": false,
    "pycharm": {
     "name": "#%%\n"
    }
   }
  },
  {
   "cell_type": "code",
   "execution_count": 4,
   "outputs": [
    {
     "data": {
      "text/plain": "<matplotlib.image.AxesImage at 0x1d10950ef10>"
     },
     "execution_count": 4,
     "metadata": {},
     "output_type": "execute_result"
    },
    {
     "data": {
      "text/plain": "<Figure size 432x288 with 1 Axes>",
      "image/png": "[encoded data removed]"
     },
     "metadata": {
      "needs_background": "light"
     },
     "output_type": "display_data"
    }
   ],
   "source": [
    "# 查看下mnist的图片\n",
    "import matplotlib.pyplot as plt\n",
    "plt.imshow(mnist[0][0].view(28,28).numpy())"
   ],
   "metadata": {
    "collapsed": false,
    "pycharm": {
     "name": "#%%\n"
    }
   }
  },
  {
   "cell_type": "code",
   "execution_count": 5,
   "outputs": [],
   "source": [
    "# 定义model\n",
    "class Model(nn.Module):\n",
    "    def __init__(self, in_features=10, out_features=2):\n",
    "        super().__init__()\n",
    "        self.liner1 = nn.Linear(in_features, 128, bias=False)\n",
    "        self.output = nn.Linear(128, out_features, bias=False)\n",
    "\n",
    "    def forward(self, x):\n",
    "        x = x.view(-1, 28*28)\n",
    "        relu = t.relu(self.liner1(x))\n",
    "        z = self.output(relu)\n",
    "        softmax = F.log_softmax(z, dim=1)\n",
    "        return softmax"
   ],
   "metadata": {
    "collapsed": false,
    "pycharm": {
     "name": "#%%\n"
    }
   }
  },
  {
   "cell_type": "code",
   "execution_count": 6,
   "outputs": [],
   "source": [
    "def fit(net, batchdata, lr, gamma, epochs):\n",
    "    criterion = nn.NLLLoss()\n",
    "    opt = optim.SGD(net.parameters(), lr = lr,momentum=gamma)\n",
    "    correct = 0\n",
    "    samples = 0\n",
    "    for epoch in range(epochs):\n",
    "        for batch_id, (x, y) in enumerate(batchdata):\n",
    "            y = y.view(x.shape[0])\n",
    "            forward = net.forward(x)\n",
    "            loss = criterion(forward, y)\n",
    "            loss.backward()\n",
    "            opt.step()\n",
    "            opt.zero_grad()\n",
    "\n",
    "            yhat = t.max(forward, 1)[1]\n",
    "            correct += t.sum(yhat==y)\n",
    "            samples +=x.shape[0]\n",
    "            if (batch_id+1) % 125 == 0 or batch_id == len(batchdata)-1:\n",
    "                print('Epoch{}:[{}/{}({:.0f}%)]\\tLoss:{:.6f}\\t Accuracy:{:.3f}'.format(\n",
    "                epoch+1\n",
    "                ,samples\n",
    "                ,len(batchdata.dataset)*epochs\n",
    "                ,100*samples/(len(batchdata.dataset)*epochs)\n",
    "                ,loss.data.item()\n",
    "                ,float(correct*100)/samples))\n",
    "            pass\n",
    "        pass\n",
    "    pass\n"
   ],
   "metadata": {
    "collapsed": false,
    "pycharm": {
     "name": "#%%\n"
    }
   }
  },
  {
   "cell_type": "markdown",
   "source": [
    "# 训练和评估"
   ],
   "metadata": {
    "collapsed": false,
    "pycharm": {
     "name": "#%% md\n"
    }
   }
  },
  {
   "cell_type": "code",
   "execution_count": 9,
   "outputs": [
    {
     "data": {
      "text/plain": "10"
     },
     "execution_count": 9,
     "metadata": {},
     "output_type": "execute_result"
    }
   ],
   "source": [
    "# 参数设置\n",
    "batch_size = 128\n",
    "lr = 0.2\n",
    "epochs = 5\n",
    "gamma = 0\n",
    "\n",
    "batchdata = DataLoader(mnist, batch_size=batch_size, shuffle=True)\n",
    "len(batchdata)\n",
    "input_ = mnist.data[0].numel()\n",
    "input_\n",
    "output_ = len(mnist.targets.unique())\n",
    "output_"
   ],
   "metadata": {
    "collapsed": false,
    "pycharm": {
     "name": "#%%\n"
    }
   }
  },
  {
   "cell_type": "code",
   "execution_count": 10,
   "outputs": [
    {
     "name": "stdout",
     "output_type": "stream",
     "text": [
      "Epoch1:[16000/300000(5%)]\tLoss:0.799948\t Accuracy:66.606\n",
      "Epoch1:[32000/300000(11%)]\tLoss:0.554410\t Accuracy:72.041\n",
      "Epoch1:[48000/300000(16%)]\tLoss:0.498571\t Accuracy:74.790\n",
      "Epoch1:[60000/300000(20%)]\tLoss:0.636044\t Accuracy:76.135\n",
      "Epoch2:[76000/300000(25%)]\tLoss:0.458346\t Accuracy:77.603\n",
      "Epoch2:[92000/300000(31%)]\tLoss:0.384422\t Accuracy:78.523\n",
      "Epoch2:[108000/300000(36%)]\tLoss:0.526542\t Accuracy:79.313\n",
      "Epoch2:[120000/300000(40%)]\tLoss:0.375241\t Accuracy:79.856\n",
      "Epoch3:[136000/300000(45%)]\tLoss:0.303937\t Accuracy:80.451\n",
      "Epoch3:[152000/300000(51%)]\tLoss:0.415975\t Accuracy:80.938\n",
      "Epoch3:[168000/300000(56%)]\tLoss:0.508405\t Accuracy:81.342\n",
      "Epoch3:[180000/300000(60%)]\tLoss:0.391182\t Accuracy:81.632\n",
      "Epoch4:[196000/300000(65%)]\tLoss:0.410978\t Accuracy:82.018\n",
      "Epoch4:[212000/300000(71%)]\tLoss:0.550932\t Accuracy:82.334\n",
      "Epoch4:[228000/300000(76%)]\tLoss:0.395312\t Accuracy:82.621\n",
      "Epoch4:[240000/300000(80%)]\tLoss:0.322151\t Accuracy:82.825\n",
      "Epoch5:[256000/300000(85%)]\tLoss:0.403257\t Accuracy:83.055\n",
      "Epoch5:[272000/300000(91%)]\tLoss:0.373121\t Accuracy:83.296\n",
      "Epoch5:[288000/300000(96%)]\tLoss:0.377507\t Accuracy:83.524\n",
      "Epoch5:[300000/300000(100%)]\tLoss:0.313993\t Accuracy:83.652\n",
      "CPU times: total: 5min 15s\n",
      "Wall time: 39.7 s\n"
     ]
    }
   ],
   "source": [
    "%%time\n",
    "t.random.manual_seed(666)\n",
    "net = Model(in_features=input_, out_features=output_)\n",
    "fit(net, batchdata, lr, gamma, epochs)"
   ],
   "metadata": {
    "collapsed": false,
    "pycharm": {
     "name": "#%%\n"
    }
   }
  },
  {
   "cell_type": "code",
   "execution_count": null,
   "outputs": [],
   "source": [],
   "metadata": {
    "collapsed": false,
    "pycharm": {
     "name": "#%%\n"
    }
   }
  }
 ],
 "metadata": {
  "kernelspec": {
   "display_name": "Python 3",
   "language": "python",
   "name": "python3"
  },
  "language_info": {
   "codemirror_mode": {
    "name": "ipython",
    "version": 2
   },
   "file_extension": ".py",
   "mimetype": "text/x-python",
   "name": "python",
   "nbconvert_exporter": "python",
   "pygments_lexer": "ipython2",
   "version": "2.7.6"
  }
 },
 "nbformat": 4,
 "nbformat_minor": 0
}